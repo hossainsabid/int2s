{
 "cells": [
  {
   "cell_type": "code",
   "execution_count": 2,
   "metadata": {},
   "outputs": [],
   "source": [
    "import torch\n",
    "from torch.utils.data import DataLoader\n",
    "from torchvision import transforms, datasets\n",
    "import torch.nn as nn\n",
    "import torch.nn.functional as F # import convolution functions like Relu\n",
    "from torch.optim.lr_scheduler import StepLR"
   ]
  },
  {
   "cell_type": "code",
   "execution_count": 3,
   "metadata": {},
   "outputs": [],
   "source": [
    "# the transformers for the training and testing data\n",
    "data_transforms = {\n",
    "    'train': transforms.Compose([\n",
    "        transforms.RandomResizedCrop(224), # resize the image to a random scale + aspect ratio and crop to 224x224 (helps model generalise better)\n",
    "        transforms.RandomHorizontalFlip(), # randomly flip the image horizontally (50/50 chance) \n",
    "        transforms.ToTensor(), # convert image from PIL to tensor\n",
    "        transforms.Normalize([0.485, 0.456, 0.406], [0.229, 0.224, 0.225]) # normalise the image with mean and standard deviation\n",
    "    ]),\n",
    "    'test': transforms.Compose([\n",
    "        transforms.Resize(256), # resize the image to 256x256\n",
    "        transforms.CenterCrop(224), # crop the image to 224x224 (center)\n",
    "        transforms.ToTensor(), # convert image from PIL to tensor\n",
    "        transforms.Normalize([0.485, 0.456, 0.406], [0.229, 0.224, 0.225]) # normalise the image with mean and standard deviation\n",
    "    ]),\n",
    "    'val': transforms.Compose([\n",
    "        transforms.Resize(256), # resize the image to 256x256\n",
    "        transforms.CenterCrop(224), # crop the image to 224x224 (center)\n",
    "        transforms.ToTensor(), # convert image from PIL to tensor\n",
    "        transforms.Normalize([0.485, 0.456, 0.406], [0.229, 0.224, 0.225]) # normalise the image with mean and standard deviation\n",
    "    ])\n",
    "}\n",
    "# load dataset flowers102\n",
    "image_datasets = {\n",
    "    x: datasets.Flowers102(\n",
    "        root='data',\n",
    "        split=x,\n",
    "        download=True,\n",
    "        transform=data_transforms[x]\n",
    "    )\n",
    "    for x in ['train', 'test', 'val']\n",
    "}\n"
   ]
  },
  {
   "cell_type": "code",
   "execution_count": 4,
   "metadata": {},
   "outputs": [],
   "source": [
    "# create dataloaders for the training and testing data\n",
    "dataloaders = {\n",
    "    x: DataLoader(\n",
    "        image_datasets[x], # create a dataloader for the training and testing data\n",
    "        batch_size=4, # process 60 images at a time\n",
    "        shuffle=True, # shuffle the images to prevent any patterns being learnt unintentionally\n",
    "        num_workers=4 # use 4 subprocesses to load the data\n",
    "    )\n",
    "    for x in ['train', 'test', 'val']\n",
    "}"
   ]
  },
  {
   "cell_type": "code",
   "execution_count": 8,
   "metadata": {},
   "outputs": [
    {
     "name": "stdout",
     "output_type": "stream",
     "text": [
      "torch.Size([1, 102])\n",
      "torch.Size([1, 102])\n"
     ]
    }
   ],
   "source": [
    "class CNN(nn.Module):\n",
    "    def __init__(self, num_channels=3, num_out_ch=[32, 64, 128], img_w=100, img_h=100, num_classes=102):\n",
    "        super(CNN, self).__init__()\n",
    "        # our first conv layer will have 32 output channels, a kernel size of 3, a stride of 1, and a padding of 1\n",
    "        self.conv1 = nn.Conv2d(num_channels, num_out_ch[0], kernel_size=(3,3), stride=(1,1), padding=(1,1))\n",
    "        # batch normalization layer with 32 channels (same as output of conv layer)\n",
    "        self.bn1 = nn.BatchNorm2d(num_out_ch[0])\n",
    "        # our second conv layer will have 64 output channels, a kernel size of 3, a stride of 1, and a padding of 1\n",
    "        self.conv2 = nn.Conv2d(num_out_ch[0], num_out_ch[1], kernel_size=(3,3), stride=(1,1), padding=(1,1))\n",
    "        # batch normalization layer with 64 channels (same as output of conv layer)\n",
    "        self.bn2 = nn.BatchNorm2d(num_out_ch[1])\n",
    "        # our third conv layer will have 128 output channels, a kernel size of 3, a stride of 1, and a padding of 1\n",
    "        self.conv3 = nn.Conv2d(num_out_ch[1], num_out_ch[2], kernel_size=(3,3), stride=(1,1), padding=(1,1))\n",
    "        # batch normalization layer with 128 channels (same as output of conv layer)\n",
    "        self.bn3 = nn.BatchNorm2d(num_out_ch[2])\n",
    "        # max pooling layer with kernel size 2 and stride 2\n",
    "        self.pool = nn.MaxPool2d(kernel_size=(2,2), stride=(2,2))\n",
    "        # fully connected layer that transforms the output of the conv layers into num_classes\n",
    "        self.fc = nn.Linear(int(img_w/8)*int(img_h/8)*num_out_ch[2], num_classes)\n",
    "    \n",
    "    def forward(self, x):\n",
    "        # apply first conv layer, then relu, then batch norm, then max pool\n",
    "        x = self.pool(F.relu(self.bn1(self.conv1(x))))\n",
    "        # apply second conv layer, then relu, then batch norm, then max pool\n",
    "        x = self.pool(F.relu(self.bn2(self.conv2(x))))\n",
    "        # apply third conv layer, then relu, then batch norm, then max pool\n",
    "        x = self.pool(F.relu(self.bn3(self.conv3(x))))\n",
    "        # flatten the output of the conv layers\n",
    "        x = self.fc(x.reshape(x.shape[0], -1))\n",
    "        \n",
    "        return x\n",
    "model = CNN()\n",
    "x = torch.randn(1, 3, 100, 100)\n",
    "print(model(x).shape)\n",
    "y = model(x)\n",
    "print(y.shape)"
   ]
  },
  {
   "cell_type": "code",
   "execution_count": 11,
   "metadata": {},
   "outputs": [],
   "source": [
    "# PARAMS\n",
    "NUM_CHANNELS = [8, 16, 32] # number of output channels for each conv layer\n",
    "IMG_W = 200 # image width\n",
    "IMG_H = 200 # image height\n",
    "NUM_CLASSES = 102 # number of classes (flowers)\n",
    "BATCH_SIZE = 32 # batch size (number of images to process at once)\n",
    "NUM_EPOCHS = 12 # number of epochs (times to run the training loop)\n",
    "LEARNING_RATE = 0.0001 # learning rate"
   ]
  },
  {
   "cell_type": "code",
   "execution_count": 9,
   "metadata": {},
   "outputs": [
    {
     "name": "stdout",
     "output_type": "stream",
     "text": [
      "1973862\n"
     ]
    }
   ],
   "source": [
    "def count_parameters(model)->int:\n",
    "    return sum(p.numel() for p in model.parameters() if p.requires_grad)\n",
    "print(count_parameters(model))"
   ]
  },
  {
   "cell_type": "code",
   "execution_count": 10,
   "metadata": {},
   "outputs": [
    {
     "name": "stdout",
     "output_type": "stream",
     "text": [
      "USING:  cuda:0\n",
      "IS CUDA AVAILABLE:  True\n"
     ]
    },
    {
     "data": {
      "text/plain": [
       "CNN(\n",
       "  (conv1): Conv2d(3, 32, kernel_size=(3, 3), stride=(1, 1), padding=(1, 1))\n",
       "  (bn1): BatchNorm2d(32, eps=1e-05, momentum=0.1, affine=True, track_running_stats=True)\n",
       "  (conv2): Conv2d(32, 64, kernel_size=(3, 3), stride=(1, 1), padding=(1, 1))\n",
       "  (bn2): BatchNorm2d(64, eps=1e-05, momentum=0.1, affine=True, track_running_stats=True)\n",
       "  (conv3): Conv2d(64, 128, kernel_size=(3, 3), stride=(1, 1), padding=(1, 1))\n",
       "  (bn3): BatchNorm2d(128, eps=1e-05, momentum=0.1, affine=True, track_running_stats=True)\n",
       "  (pool): MaxPool2d(kernel_size=(2, 2), stride=(2, 2), padding=0, dilation=1, ceil_mode=False)\n",
       "  (fc): Linear(in_features=18432, out_features=102, bias=True)\n",
       ")"
      ]
     },
     "execution_count": 10,
     "metadata": {},
     "output_type": "execute_result"
    }
   ],
   "source": [
    "criteria = nn.CrossEntropyLoss() # loss function\n",
    "optimiser = torch.optim.Adam(model.parameters(), lr=0.001) # optimiser\n",
    "scheduler = StepLR(optimiser, step_size=7, gamma=0.1)\n",
    "device = torch.device(\"cuda:0\" if torch.cuda.is_available() else \"cpu\") # train on gpu if supported\n",
    "print(\"USING: \", device)\n",
    "print(\"IS CUDA AVAILABLE: \", torch.cuda.is_available())\n",
    "model.to(device) # move model to gpu"
   ]
  },
  {
   "cell_type": "code",
   "execution_count": 13,
   "metadata": {},
   "outputs": [
    {
     "ename": "RuntimeError",
     "evalue": "mat1 and mat2 shapes cannot be multiplied (4x100352 and 18432x102)",
     "output_type": "error",
     "traceback": [
      "\u001b[1;31m---------------------------------------------------------------------------\u001b[0m",
      "\u001b[1;31mRuntimeError\u001b[0m                              Traceback (most recent call last)",
      "Cell \u001b[1;32mIn[13], line 24\u001b[0m\n\u001b[0;32m     21\u001b[0m x \u001b[39m=\u001b[39m x\u001b[39m.\u001b[39mto(device)\n\u001b[0;32m     22\u001b[0m y \u001b[39m=\u001b[39m y\u001b[39m.\u001b[39mto(device)\n\u001b[1;32m---> 24\u001b[0m y_hat \u001b[39m=\u001b[39m model(x)\n\u001b[0;32m     25\u001b[0m loss \u001b[39m=\u001b[39m criteria(y_hat, y)\n\u001b[0;32m     26\u001b[0m running_loss \u001b[39m+\u001b[39m\u001b[39m=\u001b[39m loss\n",
      "File \u001b[1;32mc:\\Users\\cswil\\Desktop\\uniwork\\Term 2\\Int2\\exam\\venv\\lib\\site-packages\\torch\\nn\\modules\\module.py:1501\u001b[0m, in \u001b[0;36mModule._call_impl\u001b[1;34m(self, *args, **kwargs)\u001b[0m\n\u001b[0;32m   1496\u001b[0m \u001b[39m# If we don't have any hooks, we want to skip the rest of the logic in\u001b[39;00m\n\u001b[0;32m   1497\u001b[0m \u001b[39m# this function, and just call forward.\u001b[39;00m\n\u001b[0;32m   1498\u001b[0m \u001b[39mif\u001b[39;00m \u001b[39mnot\u001b[39;00m (\u001b[39mself\u001b[39m\u001b[39m.\u001b[39m_backward_hooks \u001b[39mor\u001b[39;00m \u001b[39mself\u001b[39m\u001b[39m.\u001b[39m_backward_pre_hooks \u001b[39mor\u001b[39;00m \u001b[39mself\u001b[39m\u001b[39m.\u001b[39m_forward_hooks \u001b[39mor\u001b[39;00m \u001b[39mself\u001b[39m\u001b[39m.\u001b[39m_forward_pre_hooks\n\u001b[0;32m   1499\u001b[0m         \u001b[39mor\u001b[39;00m _global_backward_pre_hooks \u001b[39mor\u001b[39;00m _global_backward_hooks\n\u001b[0;32m   1500\u001b[0m         \u001b[39mor\u001b[39;00m _global_forward_hooks \u001b[39mor\u001b[39;00m _global_forward_pre_hooks):\n\u001b[1;32m-> 1501\u001b[0m     \u001b[39mreturn\u001b[39;00m forward_call(\u001b[39m*\u001b[39margs, \u001b[39m*\u001b[39m\u001b[39m*\u001b[39mkwargs)\n\u001b[0;32m   1502\u001b[0m \u001b[39m# Do not call functions when jit is used\u001b[39;00m\n\u001b[0;32m   1503\u001b[0m full_backward_hooks, non_full_backward_hooks \u001b[39m=\u001b[39m [], []\n",
      "Cell \u001b[1;32mIn[8], line 29\u001b[0m, in \u001b[0;36mCNN.forward\u001b[1;34m(self, x)\u001b[0m\n\u001b[0;32m     27\u001b[0m x \u001b[39m=\u001b[39m \u001b[39mself\u001b[39m\u001b[39m.\u001b[39mpool(F\u001b[39m.\u001b[39mrelu(\u001b[39mself\u001b[39m\u001b[39m.\u001b[39mbn3(\u001b[39mself\u001b[39m\u001b[39m.\u001b[39mconv3(x))))\n\u001b[0;32m     28\u001b[0m \u001b[39m# flatten the output of the conv layers\u001b[39;00m\n\u001b[1;32m---> 29\u001b[0m x \u001b[39m=\u001b[39m \u001b[39mself\u001b[39;49m\u001b[39m.\u001b[39;49mfc(x\u001b[39m.\u001b[39;49mreshape(x\u001b[39m.\u001b[39;49mshape[\u001b[39m0\u001b[39;49m], \u001b[39m-\u001b[39;49m\u001b[39m1\u001b[39;49m))\n\u001b[0;32m     31\u001b[0m \u001b[39mreturn\u001b[39;00m x\n",
      "File \u001b[1;32mc:\\Users\\cswil\\Desktop\\uniwork\\Term 2\\Int2\\exam\\venv\\lib\\site-packages\\torch\\nn\\modules\\module.py:1501\u001b[0m, in \u001b[0;36mModule._call_impl\u001b[1;34m(self, *args, **kwargs)\u001b[0m\n\u001b[0;32m   1496\u001b[0m \u001b[39m# If we don't have any hooks, we want to skip the rest of the logic in\u001b[39;00m\n\u001b[0;32m   1497\u001b[0m \u001b[39m# this function, and just call forward.\u001b[39;00m\n\u001b[0;32m   1498\u001b[0m \u001b[39mif\u001b[39;00m \u001b[39mnot\u001b[39;00m (\u001b[39mself\u001b[39m\u001b[39m.\u001b[39m_backward_hooks \u001b[39mor\u001b[39;00m \u001b[39mself\u001b[39m\u001b[39m.\u001b[39m_backward_pre_hooks \u001b[39mor\u001b[39;00m \u001b[39mself\u001b[39m\u001b[39m.\u001b[39m_forward_hooks \u001b[39mor\u001b[39;00m \u001b[39mself\u001b[39m\u001b[39m.\u001b[39m_forward_pre_hooks\n\u001b[0;32m   1499\u001b[0m         \u001b[39mor\u001b[39;00m _global_backward_pre_hooks \u001b[39mor\u001b[39;00m _global_backward_hooks\n\u001b[0;32m   1500\u001b[0m         \u001b[39mor\u001b[39;00m _global_forward_hooks \u001b[39mor\u001b[39;00m _global_forward_pre_hooks):\n\u001b[1;32m-> 1501\u001b[0m     \u001b[39mreturn\u001b[39;00m forward_call(\u001b[39m*\u001b[39margs, \u001b[39m*\u001b[39m\u001b[39m*\u001b[39mkwargs)\n\u001b[0;32m   1502\u001b[0m \u001b[39m# Do not call functions when jit is used\u001b[39;00m\n\u001b[0;32m   1503\u001b[0m full_backward_hooks, non_full_backward_hooks \u001b[39m=\u001b[39m [], []\n",
      "File \u001b[1;32mc:\\Users\\cswil\\Desktop\\uniwork\\Term 2\\Int2\\exam\\venv\\lib\\site-packages\\torch\\nn\\modules\\linear.py:114\u001b[0m, in \u001b[0;36mLinear.forward\u001b[1;34m(self, input)\u001b[0m\n\u001b[0;32m    113\u001b[0m \u001b[39mdef\u001b[39;00m \u001b[39mforward\u001b[39m(\u001b[39mself\u001b[39m, \u001b[39minput\u001b[39m: Tensor) \u001b[39m-\u001b[39m\u001b[39m>\u001b[39m Tensor:\n\u001b[1;32m--> 114\u001b[0m     \u001b[39mreturn\u001b[39;00m F\u001b[39m.\u001b[39;49mlinear(\u001b[39minput\u001b[39;49m, \u001b[39mself\u001b[39;49m\u001b[39m.\u001b[39;49mweight, \u001b[39mself\u001b[39;49m\u001b[39m.\u001b[39;49mbias)\n",
      "\u001b[1;31mRuntimeError\u001b[0m: mat1 and mat2 shapes cannot be multiplied (4x100352 and 18432x102)"
     ]
    }
   ],
   "source": [
    "def check_accuracy(loader, model):\n",
    "    correct = 0 \n",
    "    samples = 0\n",
    "    model.eval()\n",
    "\n",
    "    with torch.no_grad():\n",
    "        for x, y in loader:\n",
    "            x = x.to(device) # move images to device\n",
    "            y = y.to(device) # move labels to device\n",
    "            y_hat = model(x) # get predictions\n",
    "            _, predictions = y_hat.max(1) # get predictions\n",
    "            correct += (predictions == y).sum() # add number of correct predictions\n",
    "            samples += predictions.size(0) # add number of samples\n",
    "    print(f\"Accuracy: {correct}/{samples}: %{correct/samples*100:.2f}\") # print accuracy\n",
    "    model.train() # set model back to train mode\n",
    "\n",
    "for epoch in range(NUM_EPOCHS):\n",
    "    running_loss = 0\n",
    "    val_running_loss = 0\n",
    "    for i, (x, y) in enumerate(dataloaders['train']):\n",
    "        x = x.to(device)\n",
    "        y = y.to(device)\n",
    "\n",
    "        y_hat = model(x)\n",
    "        loss = criteria(y_hat, y)\n",
    "        running_loss += loss\n",
    "\n",
    "        optimiser.zero_grad()\n",
    "        loss.backward()\n",
    "        optimiser.step()\n",
    "    \n",
    "    # Calculate validation loss\n",
    "    model.eval()\n",
    "    with torch.no_grad():\n",
    "        for x_val, y_val in dataloaders[\"val\"]:\n",
    "            x_val = x_val.to(device)\n",
    "            y_val = y_val.to(device)\n",
    "            \n",
    "            y_val_hat = model(x_val)\n",
    "            val_loss = criteria(y_val_hat, y_val)\n",
    "            val_running_loss += val_loss\n",
    "\n",
    "    model.train()\n",
    "\n",
    "    scheduler.step()\n",
    "    print(f\"Epoch {epoch+1} of {NUM_EPOCHS}, Train Loss: {running_loss}, Val Loss: {val_running_loss}\")\n",
    "    check_accuracy(dataloaders[\"val\"], model)"
   ]
  },
  {
   "cell_type": "code",
   "execution_count": 14,
   "metadata": {},
   "outputs": [
    {
     "name": "stdout",
     "output_type": "stream",
     "text": [
      "Test Loss: 6.6630 Acc: 0.0124\n",
      "Saving model...\n",
      "Model saved!\n"
     ]
    }
   ],
   "source": [
    "import time\n",
    "model.eval()\n",
    "test_loss = 0.0\n",
    "test_correct = 0\n",
    "\n",
    "with torch.no_grad():\n",
    "    for inputs, labels in dataloaders[\"test\"]:\n",
    "        inputs = inputs.to(device)\n",
    "        labels = labels.to(device)\n",
    "\n",
    "        outputs = model(inputs)\n",
    "        _, preds = torch.max(outputs, 1)\n",
    "        loss = criteria(outputs, labels)\n",
    "\n",
    "        test_loss += loss.item() * inputs.size(0)\n",
    "        test_correct += torch.sum(preds == labels.data)\n",
    "print(f\"Test Loss: {test_loss/len(image_datasets['test']):.4f} Acc: {test_correct.double()/len(image_datasets['test']):.4f}\")\n",
    "print(\"Saving model...\")\n",
    "torch.save(model.state_dict(), f\"./models/model_{test_correct.double()/len(image_datasets['test']):.4f}.pth\")\n",
    "print(\"Model saved!\")\n"
   ]
  }
 ],
 "metadata": {
  "kernelspec": {
   "display_name": "Python 3",
   "language": "python",
   "name": "python3"
  },
  "language_info": {
   "codemirror_mode": {
    "name": "ipython",
    "version": 3
   },
   "file_extension": ".py",
   "mimetype": "text/x-python",
   "name": "python",
   "nbconvert_exporter": "python",
   "pygments_lexer": "ipython3",
   "version": "3.9.7"
  },
  "orig_nbformat": 4
 },
 "nbformat": 4,
 "nbformat_minor": 2
}
